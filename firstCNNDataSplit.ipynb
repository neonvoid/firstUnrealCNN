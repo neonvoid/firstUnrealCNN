{
 "cells": [
  {
   "cell_type": "code",
   "execution_count": 15,
   "metadata": {},
   "outputs": [],
   "source": [
    "import numpy as np\n",
    "import matplotlib.pyplot as plt\n",
    "import os\n",
    "import cv2\n",
    "import pickle"
   ]
  },
  {
   "cell_type": "code",
   "execution_count": 16,
   "metadata": {},
   "outputs": [
    {
     "data": {
      "image/png": "[encoded data removed]",
      "text/plain": [
       "<Figure size 640x480 with 1 Axes>"
      ]
     },
     "metadata": {},
     "output_type": "display_data"
    }
   ],
   "source": [
    "dir = \"D:/python/firstCNN/data\"\n",
    "categories=['0','1','2']\n",
    "\n",
    "for cat in categories:\n",
    "    path = os.path.join(dir,cat)\n",
    "    for frame in os.listdir(path):\n",
    "        frameArray = cv2.imread(os.path.join(path,frame), cv2.IMREAD_GRAYSCALE)\n",
    "        plt.imshow(frameArray,cmap='gray')\n",
    "        plt.show()\n",
    "        break\n",
    "    break"
   ]
  },
  {
   "cell_type": "code",
   "execution_count": 17,
   "metadata": {},
   "outputs": [
    {
     "name": "stdout",
     "output_type": "stream",
     "text": [
      "100\n"
     ]
    }
   ],
   "source": [
    "print(len(frameArray))"
   ]
  },
  {
   "cell_type": "code",
   "execution_count": 28,
   "metadata": {},
   "outputs": [],
   "source": [
    "training_data = []\n",
    "def create_training_data():\n",
    "    for cat in categories:\n",
    "        path = os.path.join(dir,cat)\n",
    "        class_num = categories.index(cat)\n",
    "        for frame in os.listdir(path):\n",
    "            frameArray = cv2.imread(os.path.join(path,frame), cv2.IMREAD_GRAYSCALE)\n",
    "            training_data.append([frameArray,class_num])\n",
    "\n",
    "create_training_data()"
   ]
  },
  {
   "cell_type": "code",
   "execution_count": 31,
   "metadata": {},
   "outputs": [
    {
     "name": "stdout",
     "output_type": "stream",
     "text": [
      "300\n"
     ]
    }
   ],
   "source": [
    "print(len(training_data))"
   ]
  },
  {
   "cell_type": "code",
   "execution_count": 32,
   "metadata": {},
   "outputs": [],
   "source": [
    "import random\n",
    "random.shuffle(training_data)"
   ]
  },
  {
   "cell_type": "code",
   "execution_count": 36,
   "metadata": {},
   "outputs": [
    {
     "name": "stdout",
     "output_type": "stream",
     "text": [
      "0\n",
      "1\n",
      "1\n",
      "2\n",
      "2\n",
      "0\n",
      "0\n",
      "1\n",
      "2\n",
      "2\n"
     ]
    }
   ],
   "source": [
    "for sample in training_data[:10]:\n",
    "    print(sample[1])"
   ]
  },
  {
   "cell_type": "code",
   "execution_count": 37,
   "metadata": {},
   "outputs": [],
   "source": [
    "X_train = []\n",
    "y_train = []"
   ]
  },
  {
   "cell_type": "code",
   "execution_count": 38,
   "metadata": {},
   "outputs": [],
   "source": [
    "for features,label in training_data:\n",
    "    X_train.append(features)\n",
    "    y_train.append(label)\n",
    "\n",
    "X_train = np.array(X_train).reshape(-1,100,100,1)"
   ]
  },
  {
   "cell_type": "code",
   "execution_count": 39,
   "metadata": {},
   "outputs": [],
   "source": [
    "import pickle"
   ]
  },
  {
   "cell_type": "code",
   "execution_count": 40,
   "metadata": {},
   "outputs": [],
   "source": [
    "pickle_out = open('X_train.pickle','wb')\n",
    "pickle.dump(X_train,pickle_out)\n",
    "pickle_out.close()\n",
    "\n",
    "pickle_out = open('y_train.pickle','wb')\n",
    "pickle.dump(y_train,pickle_out)\n",
    "pickle_out.close()\n"
   ]
  },
  {
   "cell_type": "code",
   "execution_count": 41,
   "metadata": {},
   "outputs": [],
   "source": [
    "pickle_in = open('X_train.pickle','rb')\n",
    "X = pickle.load(pickle_in)"
   ]
  },
  {
   "cell_type": "code",
   "execution_count": 48,
   "metadata": {},
   "outputs": [
    {
     "data": {
      "text/plain": [
       "array([[101],\n",
       "       [102],\n",
       "       [141],\n",
       "       [131],\n",
       "       [176],\n",
       "       [246],\n",
       "       [204],\n",
       "       [229],\n",
       "       [190],\n",
       "       [169],\n",
       "       [153],\n",
       "       [ 99],\n",
       "       [118],\n",
       "       [ 88],\n",
       "       [ 72],\n",
       "       [ 77],\n",
       "       [112],\n",
       "       [103],\n",
       "       [ 95],\n",
       "       [112],\n",
       "       [113],\n",
       "       [113],\n",
       "       [114],\n",
       "       [114],\n",
       "       [115],\n",
       "       [116],\n",
       "       [116],\n",
       "       [117],\n",
       "       [117],\n",
       "       [117],\n",
       "       [118],\n",
       "       [118],\n",
       "       [118],\n",
       "       [119],\n",
       "       [120],\n",
       "       [120],\n",
       "       [120],\n",
       "       [120],\n",
       "       [121],\n",
       "       [129],\n",
       "       [129],\n",
       "       [168],\n",
       "       [165],\n",
       "       [135],\n",
       "       [124],\n",
       "       [100],\n",
       "       [ 92],\n",
       "       [ 92],\n",
       "       [111],\n",
       "       [111],\n",
       "       [125],\n",
       "       [124],\n",
       "       [124],\n",
       "       [120],\n",
       "       [152],\n",
       "       [199],\n",
       "       [225],\n",
       "       [208],\n",
       "       [199],\n",
       "       [197],\n",
       "       [238],\n",
       "       [235],\n",
       "       [251],\n",
       "       [255],\n",
       "       [235],\n",
       "       [226],\n",
       "       [174],\n",
       "       [169],\n",
       "       [135],\n",
       "       [121],\n",
       "       [116],\n",
       "       [ 94],\n",
       "       [ 86],\n",
       "       [109],\n",
       "       [112],\n",
       "       [112],\n",
       "       [106],\n",
       "       [110],\n",
       "       [118],\n",
       "       [111],\n",
       "       [103],\n",
       "       [108],\n",
       "       [116],\n",
       "       [187],\n",
       "       [147],\n",
       "       [178],\n",
       "       [173],\n",
       "       [128],\n",
       "       [ 96],\n",
       "       [ 83],\n",
       "       [100],\n",
       "       [ 98],\n",
       "       [105],\n",
       "       [104],\n",
       "       [103],\n",
       "       [103],\n",
       "       [102],\n",
       "       [102],\n",
       "       [101],\n",
       "       [100]], dtype=uint8)"
      ]
     },
     "execution_count": 48,
     "metadata": {},
     "output_type": "execute_result"
    }
   ],
   "source": []
  }
 ],
 "metadata": {
  "kernelspec": {
   "display_name": "Python 3",
   "language": "python",
   "name": "python3"
  },
  "language_info": {
   "codemirror_mode": {
    "name": "ipython",
    "version": 3
   },
   "file_extension": ".py",
   "mimetype": "text/x-python",
   "name": "python",
   "nbconvert_exporter": "python",
   "pygments_lexer": "ipython3",
   "version": "3.10.4"
  },
  "orig_nbformat": 4
 },
 "nbformat": 4,
 "nbformat_minor": 2
}
