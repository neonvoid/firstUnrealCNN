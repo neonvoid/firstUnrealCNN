{
 "cells": [
  {
   "cell_type": "code",
   "execution_count": 1,
   "metadata": {},
   "outputs": [],
   "source": [
    "import tensorflow as tf\n",
    "from tensorflow import keras\n",
    "from keras.models import Sequential\n",
    "from keras.layers import Dense, Dropout, Activation, Flatten, Conv2D, MaxPooling2D\n",
    "import pickle\n",
    "import numpy as np"
   ]
  },
  {
   "cell_type": "code",
   "execution_count": 2,
   "metadata": {},
   "outputs": [],
   "source": [
    "X_train = pickle.load(open('X_train.pickle','rb'))\n",
    "y_train = pickle.load(open('y_train.pickle','rb'))\n",
    "\n",
    "X_train = X_train/255.0\n",
    "y_train = np.array(y_train)"
   ]
  },
  {
   "cell_type": "code",
   "execution_count": 3,
   "metadata": {},
   "outputs": [
    {
     "name": "stdout",
     "output_type": "stream",
     "text": [
      "[0 1 1 2 2 0 0 1 2 2 1 0 0 2 1 2 0 0 0 1 2 1 2 2 0 2 2 2 1 0 0 0 1 0 1 1 2\n",
      " 1 1 0 0 2 2 2 0 1 2 2 2 1 1 1 0 2 2 1 1 0 0 0 1 0 0 0 1 0 1 1 0 1 0 1 0 2\n",
      " 0 0 1 0 2 1 1 0 2 2 2 0 1 2 0 0 2 2 1 2 1 1 2 0 2 1 1 2 2 2 2 2 1 2 1 2 2\n",
      " 2 0 2 1 1 1 2 0 1 0 0 1 2 0 0 2 0 2 1 2 1 1 1 1 1 1 1 1 1 2 0 2 1 0 1 0 2\n",
      " 1 0 0 0 0 1 1 2 2 2 2 0 2 0 0 2 1 1 1 0 1 2 2 0 2 2 1 0 1 1 2 2 0 2 2 0 2\n",
      " 2 0 2 1 0 2 1 1 0 0 2 0 0 0 1 1 0 0 1 1 1 2 1 2 1 1 1 2 2 2 1 0 1 1 1 2 2\n",
      " 1 1 0 1 2 0 2 1 2 1 2 1 0 2 0 2 2 1 2 0 0 2 0 0 2 1 2 1 0 2 2 0 1 1 1 0 0\n",
      " 0 0 2 2 1 0 0 2 0 1 0 0 2 1 0 2 1 0 1 2 1 0 1 0 0 0 0 2 0 1 0 0 2 0 0 0 2\n",
      " 1 0 2 2]\n"
     ]
    }
   ],
   "source": [
    "print(y_train)"
   ]
  },
  {
   "cell_type": "code",
   "execution_count": 4,
   "metadata": {},
   "outputs": [
    {
     "data": {
      "text/plain": [
       "(100, 100, 1)"
      ]
     },
     "execution_count": 4,
     "metadata": {},
     "output_type": "execute_result"
    }
   ],
   "source": [
    "X_train.shape[1:] #we dont need the 300, batch size "
   ]
  },
  {
   "cell_type": "code",
   "execution_count": 5,
   "metadata": {},
   "outputs": [
    {
     "name": "stdout",
     "output_type": "stream",
     "text": [
      "Epoch 1/10\n",
      "12/12 [==============================] - 2s 157ms/step - loss: 1.3692 - accuracy: 0.3633\n",
      "Epoch 2/10\n",
      "12/12 [==============================] - 2s 174ms/step - loss: 0.7076 - accuracy: 0.8000\n",
      "Epoch 3/10\n",
      "12/12 [==============================] - 2s 156ms/step - loss: 0.3663 - accuracy: 0.8667\n",
      "Epoch 4/10\n",
      "12/12 [==============================] - 2s 174ms/step - loss: 0.1649 - accuracy: 0.9833\n",
      "Epoch 5/10\n",
      "12/12 [==============================] - 2s 165ms/step - loss: 0.0620 - accuracy: 1.0000\n",
      "Epoch 6/10\n",
      "12/12 [==============================] - 2s 160ms/step - loss: 0.0303 - accuracy: 1.0000\n",
      "Epoch 7/10\n",
      "12/12 [==============================] - 2s 170ms/step - loss: 0.0117 - accuracy: 1.0000\n",
      "Epoch 8/10\n",
      "12/12 [==============================] - 2s 153ms/step - loss: 0.0061 - accuracy: 1.0000\n",
      "Epoch 9/10\n",
      "12/12 [==============================] - 2s 155ms/step - loss: 0.0047 - accuracy: 1.0000\n",
      "Epoch 10/10\n",
      "12/12 [==============================] - 2s 153ms/step - loss: 0.0031 - accuracy: 1.0000\n"
     ]
    },
    {
     "data": {
      "text/plain": [
       "<keras.callbacks.History at 0x1cee2b379a0>"
      ]
     },
     "execution_count": 5,
     "metadata": {},
     "output_type": "execute_result"
    }
   ],
   "source": [
    "model = Sequential()\n",
    "model.add(Conv2D(64,(3,3),input_shape=X_train.shape[1:]))\n",
    "model.add(Activation('relu'))\n",
    "model.add(MaxPooling2D(pool_size=(2,2)))\n",
    "model.add(Conv2D(64,(3,3)))\n",
    "model.add(Activation('relu'))\n",
    "model.add(MaxPooling2D(pool_size=(2,2)))\n",
    "\n",
    "model.add(Flatten())\n",
    "model.add(Dense(64))\n",
    "\n",
    "model.add(Dense(3))\n",
    "model.add(Activation('softmax'))\n",
    "\n",
    "model.compile(\n",
    "    loss='sparse_categorical_crossentropy',\n",
    "    optimizer='adam',\n",
    "    metrics=['accuracy']\n",
    ")\n",
    "\n",
    "model.fit(X_train,y_train,epochs=10,batch_size=25)"
   ]
  },
  {
   "cell_type": "code",
   "execution_count": 6,
   "metadata": {},
   "outputs": [
    {
     "name": "stderr",
     "output_type": "stream",
     "text": [
      "WARNING:absl:Found untraced functions such as _jit_compiled_convolution_op, _jit_compiled_convolution_op while saving (showing 2 of 2). These functions will not be directly callable after loading.\n"
     ]
    },
    {
     "name": "stdout",
     "output_type": "stream",
     "text": [
      "INFO:tensorflow:Assets written to: firstconvnet.model\\assets\n"
     ]
    },
    {
     "name": "stderr",
     "output_type": "stream",
     "text": [
      "INFO:tensorflow:Assets written to: firstconvnet.model\\assets\n"
     ]
    }
   ],
   "source": [
    "model.save('firstconvnet.model')"
   ]
  },
  {
   "cell_type": "code",
   "execution_count": 7,
   "metadata": {},
   "outputs": [
    {
     "name": "stdout",
     "output_type": "stream",
     "text": [
      "10/10 [==============================] - 1s 53ms/step - loss: 0.0029 - accuracy: 1.0000\n"
     ]
    },
    {
     "data": {
      "text/plain": [
       "[0.002869480522349477, 1.0]"
      ]
     },
     "execution_count": 7,
     "metadata": {},
     "output_type": "execute_result"
    }
   ],
   "source": [
    "model.evaluate(X_train,y_train)"
   ]
  },
  {
   "cell_type": "code",
   "execution_count": 8,
   "metadata": {},
   "outputs": [
    {
     "name": "stdout",
     "output_type": "stream",
     "text": [
      "10/10 [==============================] - 1s 45ms/step\n"
     ]
    }
   ],
   "source": [
    "pred = model.predict(X_train)"
   ]
  },
  {
   "cell_type": "code",
   "execution_count": 10,
   "metadata": {},
   "outputs": [
    {
     "data": {
      "text/plain": [
       "(300, 3)"
      ]
     },
     "execution_count": 10,
     "metadata": {},
     "output_type": "execute_result"
    }
   ],
   "source": [
    "pred.shape"
   ]
  },
  {
   "cell_type": "code",
   "execution_count": 19,
   "metadata": {},
   "outputs": [
    {
     "data": {
      "text/plain": [
       "2"
      ]
     },
     "execution_count": 19,
     "metadata": {},
     "output_type": "execute_result"
    }
   ],
   "source": [
    "np.argmax(pred[9])\n"
   ]
  }
 ],
 "metadata": {
  "kernelspec": {
   "display_name": "Python 3",
   "language": "python",
   "name": "python3"
  },
  "language_info": {
   "codemirror_mode": {
    "name": "ipython",
    "version": 3
   },
   "file_extension": ".py",
   "mimetype": "text/x-python",
   "name": "python",
   "nbconvert_exporter": "python",
   "pygments_lexer": "ipython3",
   "version": "3.10.4"
  },
  "orig_nbformat": 4
 },
 "nbformat": 4,
 "nbformat_minor": 2
}
